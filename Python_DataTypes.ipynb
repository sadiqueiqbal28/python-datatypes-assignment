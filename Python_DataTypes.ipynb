{
  "nbformat": 4,
  "nbformat_minor": 0,
  "metadata": {
    "colab": {
      "provenance": []
    },
    "kernelspec": {
      "name": "python3",
      "display_name": "Python 3"
    },
    "language_info": {
      "name": "python"
    }
  },
  "cells": [
    {
      "cell_type": "markdown",
      "source": [
        "# Datatype and Structure Questions:"
      ],
      "metadata": {
        "id": "W4sqmBcdcj1p"
      }
    },
    {
      "cell_type": "markdown",
      "source": [
        "1. What are data structures and why are they important?\n",
        "\n",
        "  => Data structure is a way to store and organize the data, It is important as through data structures we can access and manipulate the data."
      ],
      "metadata": {
        "id": "WAF1hT6zcvJy"
      }
    },
    {
      "cell_type": "markdown",
      "source": [
        "2. Explain the difference between mutable and immutable data types with example\n",
        "\n",
        "  =>\n",
        "\n",
        "*   **Mutable Datatype:** It refers to if the object has the ability to chage its value after it was created. Example: List is mutable datatype\n",
        "  ```\n",
        "  list = [1, 2, \"Hello world\", 3+5j]\n",
        "  list[2] = \"Hey world\"\n",
        "  # Here we are accesing the index and updating the value directly through it\n",
        "  print(list)\n",
        "  ```\n",
        "*   **Immutable Datatype:** It refers to the datatype which don't have the ability to change after they are created. Example: Tuples are immutable datatype\n",
        "  ```\n",
        "  some_tup = (1,2,\"apple\")\n",
        "  some_tup[0] = 3\n",
        "  # This line will through an error as tuples are not mutable datatype\n",
        "  ```"
      ],
      "metadata": {
        "id": "ggFOoog-87vW"
      }
    },
    {
      "cell_type": "markdown",
      "source": [
        "3. What are the main difference between list and tuples in python?\n",
        "\n",
        "  => The main difference between and list and tuple is:\n",
        "\n",
        "\n",
        "*   **Lists are mutable** (which means they have the ability to change once they are created)\n",
        "*   **Tuples are immutable** (which means they don't have the ability to change after they are created)"
      ],
      "metadata": {
        "id": "SFNcursUdJqP"
      }
    },
    {
      "cell_type": "markdown",
      "source": [
        "4. Describe how dictonaries store data?\n",
        "\n",
        "  => Dictonaries store data in the form of key value pair as like in other data types like lists, tuples and strings a continuous form of memory is allocated to the object and each value in that object is accessed through some index value. So, for example:\n",
        "  \n",
        "  ```\n",
        "  list = (1, 2, 3)\n",
        "  # Here an object named list is labeled to memory and there are some values stored in it\n",
        "  print(list[0]) # This will output 1\n",
        "  # As indexing is helping us to access a particular data among many in the list through index\n",
        "  ```\n",
        "\n",
        "  But in case of Dictonary:\n",
        "\n",
        "  ```\n",
        "    dict = {\n",
        "    \"name\": \"Steve\",\n",
        "    \"age\": 30,\n",
        "    \"salary\": 45000\n",
        "  }\n",
        "  # Here the words name, age, salary are known as key which is somewhat similar to index\n",
        "  # To access a particular data among many data we can use key to do it.\n",
        "  print(dict[\"name\"]) #This will print the value of the key (name) from dictonary\n",
        "  ```"
      ],
      "metadata": {
        "id": "Y5Sq-UXmdwci"
      }
    },
    {
      "cell_type": "markdown",
      "source": [
        "5. Why you might use a set instead of list in python?\n",
        "\n",
        "  => **Sets** are unordered, unique collection of data. Here, unordered and unique means if there are same value in set it will always show as one and unordered means the values in the set doesn't have fixed index in the memory.\n",
        "  So, each time we try to output sets it will always display only unique element within it not ample amount of same values.\n",
        "\n",
        "  It is preferred over a list because **lists are ordered collection of data** which means it will have many same value while on the other hand **sets** is used in places where we want to fetch only unique data. For Example:\n",
        "  ```\n",
        "  some_set = { 30, 32, 28, 30, 25. 35 }\n",
        "  # Here we have added different ages in a set they are 30 repeated 2 times\n",
        "  print(some_set)\n",
        "  # But as soon as we will output the data we will only see 30 once as it will display unique value.\n",
        "  ```"
      ],
      "metadata": {
        "id": "nezChhy4gMcy"
      }
    },
    {
      "cell_type": "markdown",
      "source": [
        "6. What is a string in python, and how is it different from list?\n",
        "\n",
        "  => String is the sequence of characters, It represents and manipulate textual data. In string, characters are represented using numerical values.\n",
        "\n",
        "  Each characters is assigned a unique ASCII (7 bits) and UNICODE (16 bits).\n",
        "  ```\n",
        "  str = \"Hello, World! This is some person writing a python assignment question 6\"\n",
        "  ```\n",
        "  Each character passed in the string in above code have some unique code to represent them.\n",
        "\n",
        "  **Strings are different from list because list is mutable and string is immutable**\n",
        "\n",
        "  In a string, We can't do:\n",
        "\n",
        "  ```\n",
        "  str[0] = \"M\"\n",
        "  # We can't directly assign the data through indexing in a string\n",
        "  ```"
      ],
      "metadata": {
        "id": "43cnUMZciTzB"
      }
    },
    {
      "cell_type": "markdown",
      "source": [
        "7. How do tuples ensure data integrity in Python.\n",
        "\n",
        "  => Tuples are immutable in nature which helps to maintain data integrity by avoiding any accidental data update in tuple.\n",
        "\n",
        "  Tuples can also be used as a key in dictionary because of immutablility as they are hashable which means there hash value will remain consistent which will help to retrieve the key anytime through the life of dictionary."
      ],
      "metadata": {
        "id": "OtwHein2kR1x"
      }
    },
    {
      "cell_type": "markdown",
      "source": [
        "8. What is a hash table, and how does it relate to dictionaries in Python?\n",
        "\n",
        "  => In a dictionary, data is stored in a form of key-value pair and a key is transformed into index (the process is known as hashing) where the corresponding value is stored."
      ],
      "metadata": {
        "id": "PPE1SlQLllfp"
      }
    },
    {
      "cell_type": "markdown",
      "source": [
        "9. Can lists contain different data types in Python?\n",
        "\n",
        "  => Yes, Lists can store multiple data types in python.\n",
        "\n",
        "  Example:\n"
      ],
      "metadata": {
        "id": "0A6B2AUXfDhE"
      }
    },
    {
      "cell_type": "code",
      "source": [
        "list = [ 1, 2.3, \"Hello\", { \"age\":30 }, 3+6j ]\n",
        "for i in list:\n",
        "  print(i, type(i))"
      ],
      "metadata": {
        "colab": {
          "base_uri": "https://localhost:8080/"
        },
        "id": "tqbbHc7JgHY6",
        "outputId": "8d9c22ec-e1c3-403b-877a-7463de809030"
      },
      "execution_count": 1,
      "outputs": [
        {
          "output_type": "stream",
          "name": "stdout",
          "text": [
            "1 <class 'int'>\n",
            "2.3 <class 'float'>\n",
            "Hello <class 'str'>\n",
            "{'age': 30} <class 'dict'>\n",
            "(3+6j) <class 'complex'>\n"
          ]
        }
      ]
    },
    {
      "cell_type": "markdown",
      "source": [
        "10. Explain why strings are immutable in python.\n",
        "\n",
        "  => Python strings are immutable means once the string is created it can't be modified or changed. This is important because it prevents any accidental modification and updation within a string.\n",
        "\n",
        "  Strings in python also based on hasing means if it can be modified it will lead to inappropriate bheviour in data structure."
      ],
      "metadata": {
        "id": "c_othIgbgd6j"
      }
    },
    {
      "cell_type": "code",
      "source": [
        "str = \"Hello World\"\n",
        "str[0] = 'h'\n",
        "# This line of code will generate an error"
      ],
      "metadata": {
        "id": "9i_8vvcKhkU4"
      },
      "execution_count": null,
      "outputs": []
    },
    {
      "cell_type": "markdown",
      "source": [
        "11. What advantages do dictionaries offer over lists for certain tasks.\n",
        "\n",
        "  => In list we need to access the value of the list by some index number but in dictionary we can access the value with a key which are meaningful like {\"name\":\"John\"} name is the key in the example and can be accessed anytime."
      ],
      "metadata": {
        "id": "2vWnGQkxFAyT"
      }
    },
    {
      "cell_type": "markdown",
      "source": [
        "12. Describe a scenario where using a tuple would be preferable over a list?\n",
        "\n",
        "  => Tuple is an immutable datatype whereas list is a mutable datattype, tuple are always used in the situations where we don't want to alter the data or prevent any type of accidental update or change."
      ],
      "metadata": {
        "id": "yDw9y3hJHqI1"
      }
    },
    {
      "cell_type": "markdown",
      "source": [
        "13. How do sets handle duplicate values in Python?\n",
        "\n",
        "  => Sets work on the principle of set in Mathematics which means its primany function is not to have duplicate values. When initially a set is defined with some values including duplicate values it automatically filters out, and when appending the duplicate value it discards."
      ],
      "metadata": {
        "id": "sR_0DbpEjuen"
      }
    },
    {
      "cell_type": "markdown",
      "source": [
        "14. How does the “in” keyword work differently for lists and dictionaries?\n",
        "\n",
        "  => When using \"in\" keyword in list it searches for the value rather searching for index value.\n",
        "  ```\n",
        "  list  = [1,2,3]\n",
        "  if 2 in list:\n",
        "  print(True)\n",
        "  ```\n",
        "  When using \"in\" keyword in dictionary it works for the key rather than searching for the value.\n",
        "  ```\n",
        "  dict = {\n",
        "    \"name\":\"Steve\",\n",
        "    \"age\":30\n",
        "  }\n",
        "  if \"name\" in dict:\n",
        "    print(dict.get(\"name\"))\n",
        "  ```"
      ],
      "metadata": {
        "id": "3g8kT5KDlbMS"
      }
    },
    {
      "cell_type": "markdown",
      "source": [
        "15. Can you modify the elements of a tuple? Explain why or why not?\n",
        "\n",
        "  => No, We can't modify the elements of tuple because tuples are immutable and are created in such a way that it prevents any accidental modification within a datatype. Tuples are hashable which means once it is created its hash value can't be change preventing any type of modification, Thus can also be used as a key in dictionary because requirement for key in dictionary is to have key a hashable."
      ],
      "metadata": {
        "id": "qAmfs4tsnMZw"
      }
    },
    {
      "cell_type": "markdown",
      "source": [
        "16. What is a nested dictionary, and give an example of its use case?\n",
        "\n",
        "  => A nested dictionary is where it uses a separate dictionary as the value of its key. It is useful is cases where we need to make a heirarichal data structure for more information.\n",
        "\n",
        "  ```\n",
        "  food_details = {\n",
        "    \"Indian\" : {\n",
        "      \"veg\":\"paneer\",\n",
        "      \"non-veg\":\"biryani\"\n",
        "    },\n",
        "    \"Italian\" : {\n",
        "      \"veg\":\"pizza\",\n",
        "      \"non-veg\":\"skillet chicken\"\n",
        "    }\n",
        "  }\n",
        "  ```\n",
        "\n"
      ],
      "metadata": {
        "id": "_UG0hwlMoux-"
      }
    },
    {
      "cell_type": "markdown",
      "source": [
        "17.  Describe the time complexity of accessing elements in a dictionary?\n",
        "\n",
        "  => The time complexity of accessing an element in a dictionary is O(1). It is because dictionary are hashable and uses hash function to map key's hash value in an array."
      ],
      "metadata": {
        "id": "nZcDjzyRrfCF"
      }
    },
    {
      "cell_type": "markdown",
      "source": [
        "18.  In what situations are lists preferred over dictionaries?\n",
        "\n",
        "  => Lists are mainly used where we need to insert data in an ordered collection which can be iterated later on.\n",
        "  \n",
        "  - When we need to access values based on index.\n",
        "  - When we need to insert duplicate values."
      ],
      "metadata": {
        "id": "JrDYkogPsgkN"
      }
    },
    {
      "cell_type": "markdown",
      "source": [
        "19. Why are dictionaries considered unordered, and how does that affect data retrieval?\n",
        "\n",
        "  => Dictionaries are considered unordered because they don’t store items in a fixed sequence like lists do. Instead, they store data using keys, and the order of items may not be the same every time we run our program. This doesn’t affect data retrieval because we access values directly by their keys, not by position. So, even if the order changes, we can still get the correct value using its key."
      ],
      "metadata": {
        "id": "-07uVapJtsPH"
      }
    },
    {
      "cell_type": "markdown",
      "source": [
        "20. Explain the difference between a list and a dictionary in terms of data retrieval.\n",
        "\n",
        "  => We use lists when we want to store items in a specific order and get them using their position (called index), like list[0] for the first item. We use dictionaries when we want to store data with a label (called key) and get values using that key, like dict[\"name\"]."
      ],
      "metadata": {
        "id": "Rcsqh0oKvBKS"
      }
    },
    {
      "cell_type": "markdown",
      "source": [
        "# Practical Questions"
      ],
      "metadata": {
        "id": "eZnbrNxph07J"
      }
    },
    {
      "cell_type": "markdown",
      "source": [
        "1. Write a code to create a string with your name and print it."
      ],
      "metadata": {
        "id": "umEDsExch5Tp"
      }
    },
    {
      "cell_type": "code",
      "source": [
        "str = \"Sadique Iqbal\"\n",
        "print(str)"
      ],
      "metadata": {
        "colab": {
          "base_uri": "https://localhost:8080/"
        },
        "id": "saFKshuyiCqU",
        "outputId": "113f7243-5863-40e7-c979-42425b9b0122"
      },
      "execution_count": 2,
      "outputs": [
        {
          "output_type": "stream",
          "name": "stdout",
          "text": [
            "Sadique Iqbal\n"
          ]
        }
      ]
    },
    {
      "cell_type": "markdown",
      "source": [
        "2. Write a code to find the length of the string \"Hello World\"."
      ],
      "metadata": {
        "id": "0B3iBUgjiLIv"
      }
    },
    {
      "cell_type": "code",
      "source": [
        "str = \"Hello World\"\n",
        "print(f\"Length of string is: {len(str)}\")"
      ],
      "metadata": {
        "colab": {
          "base_uri": "https://localhost:8080/"
        },
        "id": "916MlZLKiSi7",
        "outputId": "dcea356b-b959-40f7-e5c6-bb18d1b4e527"
      },
      "execution_count": 3,
      "outputs": [
        {
          "output_type": "stream",
          "name": "stdout",
          "text": [
            "Length of string is: 11\n"
          ]
        }
      ]
    },
    {
      "cell_type": "markdown",
      "source": [
        "3. Write a code to slice the first 3 characters from the string \"Python Programming\"."
      ],
      "metadata": {
        "id": "JxXV4cNpipJa"
      }
    },
    {
      "cell_type": "code",
      "source": [
        "str = \"Python Programming\"\n",
        "print(str[0:3])"
      ],
      "metadata": {
        "colab": {
          "base_uri": "https://localhost:8080/"
        },
        "id": "9oaWtYapiuKl",
        "outputId": "41dc62ba-6591-4083-e5eb-8f8956fcb1ec"
      },
      "execution_count": 5,
      "outputs": [
        {
          "output_type": "stream",
          "name": "stdout",
          "text": [
            "Pyt\n"
          ]
        }
      ]
    },
    {
      "cell_type": "markdown",
      "source": [
        "4.  Write a code to convert the string \"hello\" to uppercase."
      ],
      "metadata": {
        "id": "lYPiLdJjjCR2"
      }
    },
    {
      "cell_type": "code",
      "source": [
        "str = \"hello\"\n",
        "str = str.upper()\n",
        "print(str)"
      ],
      "metadata": {
        "colab": {
          "base_uri": "https://localhost:8080/"
        },
        "id": "curwJcrQjHlT",
        "outputId": "362e727d-2ed7-4891-8dfc-37e16088d531"
      },
      "execution_count": 6,
      "outputs": [
        {
          "output_type": "stream",
          "name": "stdout",
          "text": [
            "HELLO\n"
          ]
        }
      ]
    },
    {
      "cell_type": "markdown",
      "source": [
        "5. Write a code to replace the word \"apple\" with \"orange\" in the string \"I like apple\"."
      ],
      "metadata": {
        "id": "dWD5gHLIjPbO"
      }
    },
    {
      "cell_type": "code",
      "source": [
        "str = \"I like apple\"\n",
        "str = str.replace(\"apple\",\"orange\")\n",
        "print(str)"
      ],
      "metadata": {
        "colab": {
          "base_uri": "https://localhost:8080/"
        },
        "id": "6IlKb8hzjTtK",
        "outputId": "d2239109-ff33-4bf7-dd7a-1f609d19644b"
      },
      "execution_count": 8,
      "outputs": [
        {
          "output_type": "stream",
          "name": "stdout",
          "text": [
            "I like orange\n"
          ]
        }
      ]
    },
    {
      "cell_type": "markdown",
      "source": [
        "6. Write a code to create a list with numbers 1 to 5 and print it."
      ],
      "metadata": {
        "id": "zESLh_6cjif9"
      }
    },
    {
      "cell_type": "code",
      "source": [
        "list = [1,2,3,4,5]\n",
        "for i in list:\n",
        "  print(i,end=\" \")"
      ],
      "metadata": {
        "colab": {
          "base_uri": "https://localhost:8080/"
        },
        "id": "VFHvRWRyjouL",
        "outputId": "f3c06735-fa86-465e-acce-105729d6b774"
      },
      "execution_count": 9,
      "outputs": [
        {
          "output_type": "stream",
          "name": "stdout",
          "text": [
            "1 2 3 4 5 "
          ]
        }
      ]
    },
    {
      "cell_type": "markdown",
      "source": [
        "7. Write a code to append the number 10 to the list [1, 2, 3, 4]."
      ],
      "metadata": {
        "id": "otKjS4D2j3pL"
      }
    },
    {
      "cell_type": "code",
      "source": [
        "list = [1,2,3,4]\n",
        "list.append(10)\n",
        "print(list)"
      ],
      "metadata": {
        "colab": {
          "base_uri": "https://localhost:8080/"
        },
        "id": "iThYjhklj9Hy",
        "outputId": "44bc9589-c0ae-4aa6-ba0b-5f3f2f7201c2"
      },
      "execution_count": 10,
      "outputs": [
        {
          "output_type": "stream",
          "name": "stdout",
          "text": [
            "[1, 2, 3, 4, 10]\n"
          ]
        }
      ]
    },
    {
      "cell_type": "markdown",
      "source": [
        "8. Write a code to remove the number 3 from the list [1, 2, 3, 4, 5]."
      ],
      "metadata": {
        "id": "8D-1dIeikI2r"
      }
    },
    {
      "cell_type": "code",
      "source": [
        "list = [1,2,3,4,5]\n",
        "list.remove(3)\n",
        "print(list)"
      ],
      "metadata": {
        "colab": {
          "base_uri": "https://localhost:8080/"
        },
        "id": "b-gTi5fokK-u",
        "outputId": "4471fc40-03d7-4718-a92c-e7ede77d6da0"
      },
      "execution_count": 11,
      "outputs": [
        {
          "output_type": "stream",
          "name": "stdout",
          "text": [
            "[1, 2, 4, 5]\n"
          ]
        }
      ]
    },
    {
      "cell_type": "markdown",
      "source": [
        "9. Write a code to access the second element in the list ['a', 'b', 'c', 'd']."
      ],
      "metadata": {
        "id": "P012QPDAkU25"
      }
    },
    {
      "cell_type": "code",
      "source": [
        "list = ['a','b','c','d']\n",
        "\"\"\" As the first element remains on zero index\n",
        "Second element will be on first index \"\"\"\n",
        "print(list[1])"
      ],
      "metadata": {
        "colab": {
          "base_uri": "https://localhost:8080/"
        },
        "id": "LK8nOgNVkXms",
        "outputId": "5903f30f-5c45-4864-98f0-6b34580c2e61"
      },
      "execution_count": 12,
      "outputs": [
        {
          "output_type": "stream",
          "name": "stdout",
          "text": [
            "b\n"
          ]
        }
      ]
    },
    {
      "cell_type": "markdown",
      "source": [
        "10. Write a code to reverse the list [10, 20, 30, 40, 50]."
      ],
      "metadata": {
        "id": "dBmFPgRykw1F"
      }
    },
    {
      "cell_type": "code",
      "source": [
        "list = [10,20,30,40,50]\n",
        "list.reverse()\n",
        "print(list)"
      ],
      "metadata": {
        "colab": {
          "base_uri": "https://localhost:8080/"
        },
        "id": "sVWkyzvsk1ZS",
        "outputId": "a6325335-1ae2-4580-ac5a-410a8cb0da14"
      },
      "execution_count": 17,
      "outputs": [
        {
          "output_type": "stream",
          "name": "stdout",
          "text": [
            "[50, 40, 30, 20, 10]\n"
          ]
        }
      ]
    },
    {
      "cell_type": "markdown",
      "source": [
        "11. Write a code to create a tuple with the elements 100, 200, 300 and print it."
      ],
      "metadata": {
        "id": "TByTUe2aak2M"
      }
    },
    {
      "cell_type": "code",
      "source": [
        "tup = (100,200,300)\n",
        "print(tup)"
      ],
      "metadata": {
        "colab": {
          "base_uri": "https://localhost:8080/"
        },
        "id": "DuLUJGnZaqNN",
        "outputId": "a2fa0d8a-1508-4106-dc04-dfcacd7694da"
      },
      "execution_count": 1,
      "outputs": [
        {
          "output_type": "stream",
          "name": "stdout",
          "text": [
            "(100, 200, 300)\n"
          ]
        }
      ]
    },
    {
      "cell_type": "markdown",
      "source": [
        "12. Write a code to access the second-to-last element of the tuple ('red', 'green', 'blue', 'yellow').\n",
        "\n",
        "  => To access the second-to-last element we can use negative indexing as last element with negative index can be accessed by tuple[-1] and so on."
      ],
      "metadata": {
        "id": "uzJK12j8a1nE"
      }
    },
    {
      "cell_type": "code",
      "source": [
        "tup = ('red','green','blue','yellow')\n",
        "print(tup[-2])"
      ],
      "metadata": {
        "colab": {
          "base_uri": "https://localhost:8080/"
        },
        "id": "XBnMxk9IbIH4",
        "outputId": "6dd55bb6-04fd-4fdd-ae8f-475778bc62f1"
      },
      "execution_count": 2,
      "outputs": [
        {
          "output_type": "stream",
          "name": "stdout",
          "text": [
            "blue\n"
          ]
        }
      ]
    },
    {
      "cell_type": "markdown",
      "source": [
        "13. Write a code to find the minimum number in the tuple (10, 20, 5, 15)."
      ],
      "metadata": {
        "id": "KclaAqp3bTw_"
      }
    },
    {
      "cell_type": "code",
      "source": [
        "tup = (10,20,5,15)\n",
        "print(min(tup))"
      ],
      "metadata": {
        "colab": {
          "base_uri": "https://localhost:8080/"
        },
        "id": "BZbk112bbVsp",
        "outputId": "1f8180b9-6df5-46c3-f9fa-5899e467a539"
      },
      "execution_count": 3,
      "outputs": [
        {
          "output_type": "stream",
          "name": "stdout",
          "text": [
            "5\n"
          ]
        }
      ]
    },
    {
      "cell_type": "markdown",
      "source": [
        "14. Write a code to find the index of the element \"cat\" in the tuple ('dog', 'cat', 'rabbit')."
      ],
      "metadata": {
        "id": "Wd0jBdBjbmQb"
      }
    },
    {
      "cell_type": "code",
      "source": [
        "tup =('dog', 'cat', 'rabbit')\n",
        "print(tup.index(\"cat\"))"
      ],
      "metadata": {
        "colab": {
          "base_uri": "https://localhost:8080/"
        },
        "id": "EocM1Wr5bqDx",
        "outputId": "0748b78a-f203-4efe-d31c-32c1c8345368"
      },
      "execution_count": 4,
      "outputs": [
        {
          "output_type": "stream",
          "name": "stdout",
          "text": [
            "1\n"
          ]
        }
      ]
    },
    {
      "cell_type": "markdown",
      "source": [
        "15. Write a code to create a tuple containing three different fruits and check if \"kiwi\" is in it."
      ],
      "metadata": {
        "id": "Ok2Umqvub4Yu"
      }
    },
    {
      "cell_type": "code",
      "source": [
        "fruits = ('apple','banana','kiwi')\n",
        "if \"kiwi\" in fruits:\n",
        "  print('Kiwi Exists')\n",
        "else:\n",
        "  print(\"Kiwi doesn't exists\")"
      ],
      "metadata": {
        "colab": {
          "base_uri": "https://localhost:8080/"
        },
        "id": "RHxbXsIqb5pb",
        "outputId": "d1e79159-c200-4bde-918d-6b310d5d8b2d"
      },
      "execution_count": 12,
      "outputs": [
        {
          "output_type": "stream",
          "name": "stdout",
          "text": [
            "Kiwi Exists\n"
          ]
        }
      ]
    },
    {
      "cell_type": "markdown",
      "source": [
        "16. Write a code to create a set with the elements 'a', 'b', 'c' and print it."
      ],
      "metadata": {
        "id": "hfMhfAYtcU5Z"
      }
    },
    {
      "cell_type": "code",
      "source": [
        "set = {'a','b','c'}\n",
        "print(set)"
      ],
      "metadata": {
        "colab": {
          "base_uri": "https://localhost:8080/"
        },
        "id": "0FyvQphacZkJ",
        "outputId": "602200b8-7e3e-43f5-bdcf-358fe2c20655"
      },
      "execution_count": 11,
      "outputs": [
        {
          "output_type": "stream",
          "name": "stdout",
          "text": [
            "{'c', 'a', 'b'}\n"
          ]
        }
      ]
    },
    {
      "cell_type": "markdown",
      "source": [
        "17. Write a code to clear all elements from the set {1, 2, 3, 4, 5}."
      ],
      "metadata": {
        "id": "B7rss3sRcgpR"
      }
    },
    {
      "cell_type": "code",
      "source": [
        "set = {1,2,3,4,5}\n",
        "print(set) # Before clearing the set\n",
        "print(set.clear()) # After clearing the set"
      ],
      "metadata": {
        "colab": {
          "base_uri": "https://localhost:8080/"
        },
        "id": "EIXjU1p9cqzH",
        "outputId": "5d1727d4-072f-4319-c3b2-b941017a73ba"
      },
      "execution_count": 13,
      "outputs": [
        {
          "output_type": "stream",
          "name": "stdout",
          "text": [
            "{1, 2, 3, 4, 5}\n",
            "None\n"
          ]
        }
      ]
    },
    {
      "cell_type": "markdown",
      "source": [
        "18. Write a code to remove the element 4 from the set {1, 2, 3, 4}."
      ],
      "metadata": {
        "id": "wXgXhYrjc3Ve"
      }
    },
    {
      "cell_type": "code",
      "source": [
        "set = {1,2,3,4}\n",
        "set.remove(4)\n",
        "print(set)"
      ],
      "metadata": {
        "colab": {
          "base_uri": "https://localhost:8080/"
        },
        "id": "X3H_OfUi-lJm",
        "outputId": "4ec30d30-3f2f-4b3c-fb80-666a9ca69514"
      },
      "execution_count": 3,
      "outputs": [
        {
          "output_type": "stream",
          "name": "stdout",
          "text": [
            "{1, 2, 3}\n"
          ]
        }
      ]
    },
    {
      "cell_type": "markdown",
      "source": [
        "19. Write a code to find the union of two sets {1, 2, 3} and {3, 4, 5}."
      ],
      "metadata": {
        "id": "RUKd1X3d_CW8"
      }
    },
    {
      "cell_type": "code",
      "source": [
        "set1 = {1,2,3}\n",
        "set2 = {3,4,5}\n",
        "print(set1 | set2)"
      ],
      "metadata": {
        "colab": {
          "base_uri": "https://localhost:8080/"
        },
        "id": "rO80Hguz_Hos",
        "outputId": "f0c1de1a-5aeb-4144-e965-cad86efdb7c2"
      },
      "execution_count": 4,
      "outputs": [
        {
          "output_type": "stream",
          "name": "stdout",
          "text": [
            "{1, 2, 3, 4, 5}\n"
          ]
        }
      ]
    },
    {
      "cell_type": "markdown",
      "source": [
        "20. Write a code to find the intersection of two sets {1, 2, 3} and {2, 3, 4}."
      ],
      "metadata": {
        "id": "pfa60NSb_onX"
      }
    },
    {
      "cell_type": "code",
      "source": [
        "set1 = {1,2,3}\n",
        "set2 = {2,3,4}\n",
        "print(set1 & set2)"
      ],
      "metadata": {
        "colab": {
          "base_uri": "https://localhost:8080/"
        },
        "id": "HbtZp52Q_vMH",
        "outputId": "2cca14bb-1832-40c7-cfeb-5e5596a2d837"
      },
      "execution_count": 5,
      "outputs": [
        {
          "output_type": "stream",
          "name": "stdout",
          "text": [
            "{2, 3}\n"
          ]
        }
      ]
    },
    {
      "cell_type": "markdown",
      "source": [
        "21. Write a code to create a dictionary with the keys \"name\", \"age\", and \"city\", and print it"
      ],
      "metadata": {
        "id": "bFNwWEdeASdV"
      }
    },
    {
      "cell_type": "code",
      "source": [
        "dict = {\"name\":\"sadique\",\"age\":23,\"city\":\"Lucknow\"}\n",
        "print(dict)"
      ],
      "metadata": {
        "colab": {
          "base_uri": "https://localhost:8080/"
        },
        "id": "0RszleK9Bz1k",
        "outputId": "e75dcad7-8cdc-47b3-f2cb-b7c2484ae057"
      },
      "execution_count": 6,
      "outputs": [
        {
          "output_type": "stream",
          "name": "stdout",
          "text": [
            "{'name': 'sadique', 'age': 23, 'city': 'Lucknow'}\n"
          ]
        }
      ]
    },
    {
      "cell_type": "markdown",
      "source": [
        "22. Write a code to add a new key-value pair \"country\": \"USA\" to the dictionary {'name': 'John', 'age': 25}"
      ],
      "metadata": {
        "id": "RTphCQNtCK9L"
      }
    },
    {
      "cell_type": "code",
      "source": [
        "dict = {'name':\"John\",\"age\":25}\n",
        "d = {\"country\":\"USA\"}\n",
        "print(dict) # Before updating values\n",
        "dict.update(d)\n",
        "print(dict) # After updating values"
      ],
      "metadata": {
        "colab": {
          "base_uri": "https://localhost:8080/"
        },
        "id": "t4BbyDk0CMQD",
        "outputId": "85c53604-ad2c-46d8-db2e-9afd82aeb728"
      },
      "execution_count": 8,
      "outputs": [
        {
          "output_type": "stream",
          "name": "stdout",
          "text": [
            "{'name': 'John', 'age': 25}\n",
            "{'name': 'John', 'age': 25, 'country': 'USA'}\n"
          ]
        }
      ]
    },
    {
      "cell_type": "markdown",
      "source": [
        "23. Write a code to access the value associated with the key \"name\" in the dictionary {'name': 'Alice', 'age': 30}."
      ],
      "metadata": {
        "id": "AiQ1-eOAC0dM"
      }
    },
    {
      "cell_type": "code",
      "source": [
        "dict = {'name': 'Alice', 'age': 30}\n",
        "dict.get(\"name\") # This will output the value of the key provided in the function"
      ],
      "metadata": {
        "colab": {
          "base_uri": "https://localhost:8080/",
          "height": 36
        },
        "id": "d1Uf6wAIC13I",
        "outputId": "7ccbdeee-ce8a-455a-dcc6-eb98cc753877"
      },
      "execution_count": 9,
      "outputs": [
        {
          "output_type": "execute_result",
          "data": {
            "text/plain": [
              "'Alice'"
            ],
            "application/vnd.google.colaboratory.intrinsic+json": {
              "type": "string"
            }
          },
          "metadata": {},
          "execution_count": 9
        }
      ]
    },
    {
      "cell_type": "markdown",
      "source": [
        "24. Write a code to remove the key \"age\" from the dictionary {'name': 'Bob', 'age': 22, 'city': 'New York'}."
      ],
      "metadata": {
        "id": "LIsordCCDNDY"
      }
    },
    {
      "cell_type": "code",
      "source": [
        "dict = {'name': 'Bob', 'age': 22, 'city': 'New York'}\n",
        "print(dict) # Before removing the value\n",
        "dict.pop(\"age\")\n",
        "print(dict) # After removing the value"
      ],
      "metadata": {
        "colab": {
          "base_uri": "https://localhost:8080/"
        },
        "id": "rFP17stwDOTW",
        "outputId": "2eb8ba31-c778-4a98-8f13-ad011ced7235"
      },
      "execution_count": 10,
      "outputs": [
        {
          "output_type": "stream",
          "name": "stdout",
          "text": [
            "{'name': 'Bob', 'age': 22, 'city': 'New York'}\n",
            "{'name': 'Bob', 'city': 'New York'}\n"
          ]
        }
      ]
    },
    {
      "cell_type": "markdown",
      "source": [
        "25. Write a code to check if the key \"city\" exists in the dictionary {'name': 'Alice', 'city': 'Paris'}"
      ],
      "metadata": {
        "id": "HOwViIYMDl00"
      }
    },
    {
      "cell_type": "code",
      "source": [
        "dict = {'name': 'Alice', 'city': 'Paris'}\n",
        "if \"city\" in dict:\n",
        "  print(\"Key exists\")\n",
        "else:\n",
        "  print(\"Key doesn't exists\")"
      ],
      "metadata": {
        "colab": {
          "base_uri": "https://localhost:8080/"
        },
        "id": "ECjfuldoDoLM",
        "outputId": "bc770fd5-6a71-4452-8ada-a1db2b9862c8"
      },
      "execution_count": 13,
      "outputs": [
        {
          "output_type": "stream",
          "name": "stdout",
          "text": [
            "Key exists\n"
          ]
        }
      ]
    },
    {
      "cell_type": "markdown",
      "source": [
        "26. Write a code to create a list, a tuple, and a dictionary, and print them all."
      ],
      "metadata": {
        "id": "c3pu3MaGEmii"
      }
    },
    {
      "cell_type": "code",
      "source": [
        "list = [1,2,3.1,\"Hello World\",3+5j]\n",
        "tuple = (7,8,\"Hey John\",5+7j)\n",
        "dict = {\"name\":\"John\",\"age\":30,\"country\":\"USA\"}\n",
        "print(list)\n",
        "print(tuple)\n",
        "print(dict)"
      ],
      "metadata": {
        "colab": {
          "base_uri": "https://localhost:8080/"
        },
        "id": "j6WKEe_vEqZl",
        "outputId": "1b91cd3e-c500-4ea2-d8ca-a8742dc47c9e"
      },
      "execution_count": 14,
      "outputs": [
        {
          "output_type": "stream",
          "name": "stdout",
          "text": [
            "[1, 2, 3.1, 'Hello World', (3+5j)]\n",
            "(7, 8, 'Hey John', (5+7j))\n",
            "{'name': 'John', 'age': 30, 'country': 'USA'}\n"
          ]
        }
      ]
    },
    {
      "cell_type": "markdown",
      "source": [
        "27. Write a code to create a list of 5 random numbers between 1 and 100, sort it in ascending order, and print the\n",
        "result.(replaced)"
      ],
      "metadata": {
        "id": "YrQPADNQFIgy"
      }
    },
    {
      "cell_type": "code",
      "source": [
        "import random\n",
        "list = []\n",
        "count = 1\n",
        "while count <= 5:\n",
        "  rand_num = random.randint(0,100)\n",
        "  list.append(rand_num)\n",
        "  count += 1\n",
        "print(list)"
      ],
      "metadata": {
        "colab": {
          "base_uri": "https://localhost:8080/"
        },
        "id": "bQ232X17FQsE",
        "outputId": "b7cd08db-11d2-42ed-9aab-ee17faf5c3b8"
      },
      "execution_count": 24,
      "outputs": [
        {
          "output_type": "stream",
          "name": "stdout",
          "text": [
            "[69, 28, 78, 58, 72]\n"
          ]
        }
      ]
    },
    {
      "cell_type": "markdown",
      "source": [
        "28. Write a code to create a list with strings and print the element at the third index."
      ],
      "metadata": {
        "id": "GSjAJnKJHq5p"
      }
    },
    {
      "cell_type": "code",
      "source": [
        "str = [\"apple\",\"banana\",\"cherry\",\"watermelon\",\"grapes\"]\n",
        "print(str[3])"
      ],
      "metadata": {
        "colab": {
          "base_uri": "https://localhost:8080/"
        },
        "id": "TQPmx4RtHwX1",
        "outputId": "0289c049-12e3-4c37-b2b0-6729dbce03f6"
      },
      "execution_count": 25,
      "outputs": [
        {
          "output_type": "stream",
          "name": "stdout",
          "text": [
            "watermelon\n"
          ]
        }
      ]
    },
    {
      "cell_type": "markdown",
      "source": [
        "29. Write a code to combine two dictionaries into one and print the result."
      ],
      "metadata": {
        "id": "n69Os6WYIQU7"
      }
    },
    {
      "cell_type": "code",
      "source": [
        "d1 = {\"name\":\"John\",\"age\":28,\"salary\":45000}\n",
        "d2 = {\"country\":\"USA\",\"region\":\"California\"}\n",
        "merged_dict = d1 | d2\n",
        "print(merged_dict)"
      ],
      "metadata": {
        "colab": {
          "base_uri": "https://localhost:8080/"
        },
        "id": "8sFcGVfHzpAl",
        "outputId": "c2e1874a-b776-43f0-b5a7-29465261c91e"
      },
      "execution_count": 5,
      "outputs": [
        {
          "output_type": "stream",
          "name": "stdout",
          "text": [
            "{'name': 'John', 'age': 28, 'salary': 45000, 'country': 'USA', 'region': 'California'}\n"
          ]
        }
      ]
    },
    {
      "cell_type": "markdown",
      "source": [
        "30. Write a code to convert a list of strings into a set."
      ],
      "metadata": {
        "id": "gVjuUXvBEt1e"
      }
    },
    {
      "cell_type": "code",
      "source": [
        "list = [\"Apple\",\"Grapes\",\"Banana\"]\n",
        "set = set(list)\n",
        "print(set)"
      ],
      "metadata": {
        "colab": {
          "base_uri": "https://localhost:8080/"
        },
        "id": "8Ua9sEP8EvR8",
        "outputId": "fad6f1a8-f5fd-4609-8139-3b2507aedda0"
      },
      "execution_count": 6,
      "outputs": [
        {
          "output_type": "stream",
          "name": "stdout",
          "text": [
            "{'Banana', 'Grapes', 'Apple'}\n"
          ]
        }
      ]
    }
  ]
}